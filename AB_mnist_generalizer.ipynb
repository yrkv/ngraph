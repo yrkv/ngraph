{
 "cells": [
  {
   "cell_type": "code",
   "execution_count": 34,
   "metadata": {},
   "outputs": [],
   "source": [
    "import torch\n",
    "import torch.nn as nn\n",
    "\n",
    "import tensorflow as tf\n",
    "\n",
    "import matplotlib.pyplot as plt\n",
    "from tqdm.autonotebook import tqdm\n",
    "import numpy as np\n",
    "import cv2\n",
    "\n",
    "import random\n",
    "import importlib\n",
    "\n",
    "from sklearn.linear_model import LinearRegression\n",
    "\n",
    "from NeuralGraph import NeuralGraph"
   ]
  },
  {
   "cell_type": "code",
   "execution_count": 35,
   "metadata": {},
   "outputs": [],
   "source": [
    "(x_train, y_train), (x_test, y_test) = tf.keras.datasets.mnist.load_data()\n",
    "\n",
    "x_train, x_test = x_train/255.0, x_test/255.0\n",
    "\n",
    "SIZE = 7\n",
    "\n",
    "# Digits 0-7 are used for training\n",
    "train = {i:[] for i in range(8)}\n",
    "# Digits 8 and 9 are used for testing\n",
    "test = {i:[] for i in range(8, 10)}\n",
    "\n",
    "for img, label in zip(x_train, y_train):\n",
    "    if label < 8:\n",
    "        train[label].append(cv2.resize(img, dsize=[SIZE, SIZE]).reshape(SIZE**2))\n",
    "    else:\n",
    "        test[label].append(cv2.resize(img, dsize=[SIZE, SIZE]).reshape(SIZE**2))\n",
    "\n",
    "\n",
    "(x_train, y_train), (x_test, y_test) = tf.keras.datasets.fashion_mnist.load_data()\n",
    "\n",
    "x_train, x_test = x_train/255.0, x_test/255.0\n",
    "\n",
    "# Use fashion MNIST for out of distribution testing too\n",
    "fashion_test = {i:[] for i in range(10)}\n",
    "\n",
    "for img, label in zip(x_train, y_train):\n",
    "    fashion_test[label].append(cv2.resize(img, dsize=[SIZE, SIZE]).reshape(SIZE**2))\n",
    "\n",
    "for label in train.keys():\n",
    "    train[label] = np.array(train[label])\n",
    "\n",
    "for label in test.keys():\n",
    "    test[label] = np.array(test[label])\n",
    "\n",
    "for label in fashion_test.keys():\n",
    "    fashion_test[label] = np.array(fashion_test[label])"
   ]
  },
  {
   "cell_type": "code",
   "execution_count": 36,
   "metadata": {},
   "outputs": [
    {
     "name": "stdout",
     "output_type": "stream",
     "text": [
      "dict_keys([0, 1, 2, 3, 4, 5, 6, 7])\n"
     ]
    },
    {
     "data": {
      "image/png": "[encoded data removed]",
      "text/plain": [
       "<Figure size 640x480 with 1 Axes>"
      ]
     },
     "metadata": {},
     "output_type": "display_data"
    },
    {
     "name": "stdout",
     "output_type": "stream",
     "text": [
      "dict_keys([8, 9])\n"
     ]
    },
    {
     "data": {
      "image/png": "[encoded data removed]",
      "text/plain": [
       "<Figure size 640x480 with 1 Axes>"
      ]
     },
     "metadata": {},
     "output_type": "display_data"
    },
    {
     "name": "stdout",
     "output_type": "stream",
     "text": [
      "dict_keys([0, 1, 2, 3, 4, 5, 6, 7, 8, 9])\n"
     ]
    },
    {
     "data": {
      "image/png": "[encoded data removed]",
      "text/plain": [
       "<Figure size 640x480 with 1 Axes>"
      ]
     },
     "metadata": {},
     "output_type": "display_data"
    }
   ],
   "source": [
    "print(train.keys())\n",
    "plt.imshow(train[0][0].reshape(SIZE, SIZE))\n",
    "plt.show()\n",
    "\n",
    "print(test.keys())\n",
    "plt.imshow(test[8][0].reshape(SIZE, SIZE))\n",
    "plt.show()\n",
    "\n",
    "print(fashion_test.keys())\n",
    "plt.imshow(fashion_test[0][0].reshape(SIZE, SIZE))\n",
    "plt.show()"
   ]
  },
  {
   "cell_type": "code",
   "execution_count": 37,
   "metadata": {},
   "outputs": [
    {
     "name": "stdout",
     "output_type": "stream",
     "text": [
      "2601\n"
     ]
    }
   ],
   "source": [
    "BATCH_SIZE = 32\n",
    "TIME = 1\n",
    "DT = .25\n",
    "\n",
    "n_classes = 2\n",
    "device = \"cuda\" if torch.cuda.is_available() else \"cpu\"\n",
    "\n",
    "# Dense network with 49 nodes\n",
    "n_nodes = SIZE**2+n_classes\n",
    "connections = [(x, y) for x in range(n_nodes) for y in range(n_nodes)]\n",
    "print(len(connections))\n",
    "\n",
    "\n",
    "# GRAPH WAS INITIALLY TRAINED WITH DECAY = .5 AND SLOWLY RAMPED TO DECAY = .2\n",
    "# IF TRAINING FROM SCRATCH SET DECAY = .5 AND IF LOADING SET DECAY = .2\n",
    "graph = NeuralGraph(n_nodes, SIZE**2, n_classes, connections, \n",
    "    leakage=.25, ch_n=8, ch_e=8, ch_k=8, value_init=\"trainable\", init_value_std=.1, \n",
    "    clamp_mode=\"hard\", max_value=100, # BC I trained with an old version on ngraph\n",
    "    aggregation=\"attention\", n_heads=1, use_label=True, device=device, n_models=1, decay=.2)\n",
    "\n",
    "log = []\n",
    "\n",
    "graph.load(\"models/generalize.pt\")"
   ]
  },
  {
   "cell_type": "code",
   "execution_count": 38,
   "metadata": {},
   "outputs": [],
   "source": [
    "criterion = nn.MSELoss()\n",
    "optimizer = torch.optim.Adam(graph.parameters(), lr=1e-3)"
   ]
  },
  {
   "cell_type": "markdown",
   "metadata": {},
   "source": [
    "### SIMON Task\n",
    "##### Repeat input/output pairs in order they're given"
   ]
  },
  {
   "cell_type": "code",
   "execution_count": null,
   "metadata": {},
   "outputs": [],
   "source": [
    "STEPS = 2_000\n",
    "EXAMPLES = 10\n",
    "log = []"
   ]
  },
  {
   "cell_type": "code",
   "execution_count": null,
   "metadata": {},
   "outputs": [
    {
     "data": {
      "application/vnd.jupyter.widget-view+json": {
       "model_id": "fb96702424494af990a416973f6bf4e4",
       "version_major": 2,
       "version_minor": 0
      },
      "text/plain": [
       "  0%|          | 0/2000 [00:00<?, ?it/s]"
      ]
     },
     "metadata": {},
     "output_type": "display_data"
    },
    {
     "ename": "KeyboardInterrupt",
     "evalue": "",
     "output_type": "error",
     "traceback": [
      "\u001b[1;31m---------------------------------------------------------------------------\u001b[0m",
      "\u001b[1;31mKeyboardInterrupt\u001b[0m                         Traceback (most recent call last)",
      "Cell \u001b[1;32mIn[13], line 12\u001b[0m\n\u001b[0;32m      8\u001b[0m optimizer\u001b[39m.\u001b[39mzero_grad()\n\u001b[0;32m     10\u001b[0m y_input \u001b[39m=\u001b[39m nn\u001b[39m.\u001b[39mfunctional\u001b[39m.\u001b[39mone_hot(y_train, n_classes)\u001b[39m.\u001b[39mfloat()\n\u001b[1;32m---> 12\u001b[0m graph\u001b[39m.\u001b[39mlearn(x_train, y_input, time\u001b[39m=\u001b[39mTIME, dt\u001b[39m=\u001b[39mDT)\n\u001b[0;32m     13\u001b[0m pred \u001b[39m=\u001b[39m graph\u001b[39m.\u001b[39mpredict(x_train, time\u001b[39m=\u001b[39mTIME, dt\u001b[39m=\u001b[39mDT)\n\u001b[0;32m     15\u001b[0m accs \u001b[39m=\u001b[39m (pred\u001b[39m.\u001b[39margmax(\u001b[39m2\u001b[39m) \u001b[39m==\u001b[39m y_train)\u001b[39m.\u001b[39mfloat()\n",
      "File \u001b[1;32mc:\\Users\\Alec\\Documents\\GitHub\\ngraph_lang\\NeuralGraph.py:584\u001b[0m, in \u001b[0;36mNeuralGraph.learn\u001b[1;34m(self, X, Y, time, dt, reset_nodes, **kwargs)\u001b[0m\n\u001b[0;32m    581\u001b[0m     \u001b[39mself\u001b[39m\u001b[39m.\u001b[39mreset_vals(indices\u001b[39m=\u001b[39m\u001b[39mself\u001b[39m\u001b[39m.\u001b[39mpool, nodes\u001b[39m=\u001b[39m\u001b[39mTrue\u001b[39;00m, edges\u001b[39m=\u001b[39m\u001b[39mFalse\u001b[39;00m)\n\u001b[0;32m    583\u001b[0m \u001b[39mself\u001b[39m\u001b[39m.\u001b[39mforward(X[:, i], dt\u001b[39m=\u001b[39mdt, time\u001b[39m=\u001b[39mtime, \u001b[39m*\u001b[39m\u001b[39m*\u001b[39mkwargs)\n\u001b[1;32m--> 584\u001b[0m \u001b[39mself\u001b[39m\u001b[39m.\u001b[39mbackward(X[:, i], Y[:, i], dt\u001b[39m=\u001b[39mdt, time\u001b[39m=\u001b[39mtime, \u001b[39m*\u001b[39m\u001b[39m*\u001b[39mkwargs)\n",
      "File \u001b[1;32mc:\\Users\\Alec\\Documents\\GitHub\\ngraph_lang\\NeuralGraph.py:517\u001b[0m, in \u001b[0;36mNeuralGraph.backward\u001b[1;34m(self, x, y, time, dt, apply_once, nodes, edges, edges_at_end)\u001b[0m\n\u001b[0;32m    514\u001b[0m         \u001b[39mself\u001b[39m\u001b[39m.\u001b[39mtimestep(step_nodes\u001b[39m=\u001b[39mnodes, step_edges\u001b[39m=\u001b[39medges, dt\u001b[39m=\u001b[39mdt, t\u001b[39m=\u001b[39mt)\n\u001b[0;32m    515\u001b[0m     \u001b[39mreturn\u001b[39;00m \u001b[39mself\u001b[39m\u001b[39m.\u001b[39mread_outputs()\n\u001b[1;32m--> 517\u001b[0m \u001b[39mdef\u001b[39;00m \u001b[39mbackward\u001b[39m(\u001b[39mself\u001b[39m, x, y, time\u001b[39m=\u001b[39m\u001b[39m5\u001b[39m, dt\u001b[39m=\u001b[39m\u001b[39m1\u001b[39m, apply_once\u001b[39m=\u001b[39m\u001b[39mFalse\u001b[39;00m, nodes\u001b[39m=\u001b[39m\u001b[39mTrue\u001b[39;00m, edges\u001b[39m=\u001b[39m\u001b[39mFalse\u001b[39;00m, edges_at_end\u001b[39m=\u001b[39m\u001b[39mTrue\u001b[39;00m):\n\u001b[0;32m    518\u001b[0m \u001b[39m    \u001b[39m\u001b[39m\"\"\"\u001b[39;00m\n\u001b[0;32m    519\u001b[0m \u001b[39m    Takes an input x and a label y and puts them in the graph and runs the graph for a certain amount of time with a certain time resolution.\u001b[39;00m\n\u001b[0;32m    520\u001b[0m \u001b[39m    :param x: Input for the graph.  Must be shape (batch_size, n_inputs, ch_inp) unless ch_inp == 1 \u001b[39;00m\n\u001b[1;32m   (...)\u001b[0m\n\u001b[0;32m    529\u001b[0m \u001b[39m    :param edges_at_end: Whether to update edges on the last timestep\u001b[39;00m\n\u001b[0;32m    530\u001b[0m \u001b[39m    \"\"\"\u001b[39;00m\n\u001b[0;32m    532\u001b[0m     timesteps \u001b[39m=\u001b[39m \u001b[39mround\u001b[39m(time \u001b[39m/\u001b[39m dt)\n",
      "\u001b[1;31mKeyboardInterrupt\u001b[0m: "
     ]
    }
   ],
   "source": [
    "bar = tqdm(range(STEPS))\n",
    "for _ in bar:\n",
    "    x_train = torch.rand(BATCH_SIZE, EXAMPLES, SIZE**2, device=device)\n",
    "    y_train = torch.randint(n_classes, size=(BATCH_SIZE, EXAMPLES), device=device)\n",
    "\n",
    "    graph.init_vals(nodes=True, edges=True, batch_size=BATCH_SIZE)\n",
    "    graph.detach_vals()\n",
    "    optimizer.zero_grad()\n",
    "\n",
    "    y_input = nn.functional.one_hot(y_train, n_classes).float()\n",
    "\n",
    "    graph.learn(x_train, y_input, time=TIME, dt=DT)\n",
    "    pred = graph.predict(x_train, time=TIME, dt=DT)\n",
    "\n",
    "    accs = (pred.argmax(2) == y_train).float()\n",
    "\n",
    "    task_loss = criterion(pred, y_input)\n",
    "    overflow = graph.overflow()\n",
    "\n",
    "    loss = task_loss + overflow\n",
    "    loss.backward()\n",
    "\n",
    "    if overflow < .1 and graph.decay >= .25:\n",
    "        graph.decay -= .05\n",
    "\n",
    "    torch.nn.utils.clip_grad_norm_(graph.parameters(), 1.0)\n",
    "    optimizer.step()\n",
    "\n",
    "    entry = {'loss': task_loss.item(), 'acc': accs.mean().item(), \"overflow\": overflow.item(), \"decay\":graph.decay}\n",
    "    log.append(entry)\n",
    "    bar.set_postfix({\"loss\":np.mean([e[\"loss\"] for e in log[-10:]]), \"acc\":np.mean([e[\"acc\"] for e in log[-10:]]), \"overflow\":entry[\"overflow\"], \"decay\":entry[\"decay\"]})"
   ]
  },
  {
   "cell_type": "code",
   "execution_count": null,
   "metadata": {},
   "outputs": [],
   "source": [
    "graph.save(\"models/simon.pt\")"
   ]
  },
  {
   "cell_type": "markdown",
   "metadata": {},
   "source": [
    "### Memorization Task\n",
    "##### Given input/output pairs, give output from corresponding input"
   ]
  },
  {
   "cell_type": "code",
   "execution_count": null,
   "metadata": {},
   "outputs": [],
   "source": [
    "EXAMPLES = 10\n",
    "STEPS = 5_000\n",
    "# Reset optimizer\n",
    "optimizer = torch.optim.Adam(graph.parameters(), lr=1e-3)\n",
    "\n",
    "log = []"
   ]
  },
  {
   "cell_type": "code",
   "execution_count": null,
   "metadata": {},
   "outputs": [],
   "source": [
    "bar = tqdm(range(STEPS))\n",
    "for _ in bar:\n",
    "    x_train = torch.rand(BATCH_SIZE, EXAMPLES, SIZE**2, device=device)\n",
    "    y_train = torch.randint(n_classes, size=(BATCH_SIZE, EXAMPLES), device=device)\n",
    "\n",
    "    graph.init_vals(nodes=True, edges=True, batch_size=BATCH_SIZE)\n",
    "    graph.detach_vals()\n",
    "    optimizer.zero_grad()\n",
    "\n",
    "    y_input = nn.functional.one_hot(y_train, n_classes).float()\n",
    "\n",
    "    graph.learn(x_train, y_input, time=TIME, dt=DT)\n",
    "    \n",
    "    shuffled = np.arange(EXAMPLES)\n",
    "    np.random.shuffle(shuffled)\n",
    "    shuffled = torch.Tensor(shuffled).long().to(device)\n",
    "    \n",
    "    pred = graph.predict(x_train[:, shuffled], time=TIME, dt=DT)\n",
    "\n",
    "    accs = (pred.argmax(2) == y_train[:, shuffled]).float()\n",
    "\n",
    "    task_loss = criterion(pred, y_input[:, shuffled])\n",
    "    overflow = graph.overflow()\n",
    "\n",
    "    loss = task_loss + overflow\n",
    "    loss.backward()\n",
    "\n",
    "    torch.nn.utils.clip_grad_norm_(graph.parameters(), 1.0)\n",
    "    optimizer.step()\n",
    "\n",
    "    entry = {'loss': task_loss.item(), 'acc': accs.mean().item(), \"overflow\": overflow.item(), \"decay\":graph.decay}\n",
    "    log.append(entry)\n",
    "    bar.set_postfix({\"loss\":np.mean([e[\"loss\"] for e in log[-10:]]), \"acc\":np.mean([e[\"acc\"] for e in log[-10:]]), \"overflow\":entry[\"overflow\"], \"decay\":entry[\"decay\"]})"
   ]
  },
  {
   "cell_type": "code",
   "execution_count": null,
   "metadata": {},
   "outputs": [],
   "source": [
    "graph.save(\"models/memorize.pt\")"
   ]
  },
  {
   "cell_type": "markdown",
   "metadata": {},
   "source": [
    "### Generalization Task\n",
    "##### Given input/output pairs from a specific task, given output from unseen input data from that task"
   ]
  },
  {
   "cell_type": "code",
   "execution_count": null,
   "metadata": {},
   "outputs": [],
   "source": [
    "TRAIN_EXAMPLES = 10\n",
    "TEST_EXAMPLES = 10\n",
    "# Reset optimizer\n",
    "optimizer = torch.optim.Adam(graph.parameters(), lr=1e-3)\n",
    "\n",
    "STEPS = 100_000\n",
    "\n",
    "log = []"
   ]
  },
  {
   "cell_type": "code",
   "execution_count": null,
   "metadata": {},
   "outputs": [],
   "source": [
    "def get_batch_data(data=\"train\", batch_size=BATCH_SIZE, train_examples=TRAIN_EXAMPLES, test_examples=TEST_EXAMPLES):\n",
    "    if data == \"train\":\n",
    "        data = train\n",
    "        classes = np.stack([np.random.choice(list(range(0, 8)), size=(n_classes), replace=False) for _ in range(batch_size)])\n",
    "    elif data == \"test\":\n",
    "        data = test\n",
    "        classes = np.stack([np.random.choice(list(range(8, 10)), size=(n_classes), replace=False) for _ in range(batch_size)])\n",
    "    \n",
    "    elif data == \"fashion\":\n",
    "        data = fashion_test\n",
    "        classes = np.stack([np.random.choice(list(range(10)), size=(n_classes), replace=False) for _ in range(batch_size)])\n",
    "    \n",
    "    y_train = np.random.randint(n_classes, size=(batch_size, train_examples))\n",
    "    x_train = []\n",
    "    for batch_classes, y in zip(classes, y_train):\n",
    "        x_train.append([])\n",
    "        for class_ in batch_classes[y]:\n",
    "            x_train[-1].append(random.choice(data[class_]))\n",
    "        x_train[-1] = np.stack(x_train[-1])\n",
    "    x_train = np.stack(x_train)\n",
    "\n",
    "    y_test = np.random.randint(n_classes, size=(batch_size, TEST_EXAMPLES))\n",
    "    x_test = []\n",
    "    for batch_classes, y in zip(classes, y_test):\n",
    "        x_test.append([])\n",
    "        for class_ in batch_classes[y]:\n",
    "            x_test[-1].append(random.choice(data[class_]))\n",
    "        x_test[-1] = np.stack(x_test[-1])\n",
    "    x_test = np.stack(x_test)\n",
    "    \n",
    "    return torch.Tensor(x_train).to(device), torch.Tensor(y_train).long().to(device), torch.Tensor(x_test).to(device), torch.Tensor(y_test).long().to(device), classes"
   ]
  },
  {
   "cell_type": "code",
   "execution_count": null,
   "metadata": {},
   "outputs": [],
   "source": [
    "bar = tqdm(range(STEPS))\n",
    "for _ in bar:\n",
    "    x_train, y_train, x_test, y_test, classes = get_batch_data(data=\"train\")\n",
    "\n",
    "    graph.init_vals(nodes=True, edges=True, batch_size=BATCH_SIZE)\n",
    "    graph.detach_vals()\n",
    "    optimizer.zero_grad()\n",
    "\n",
    "    y_input = nn.functional.one_hot(y_train, n_classes).float()\n",
    "\n",
    "    graph.learn(x_train, y_input, time=TIME, dt=DT)\n",
    "    pred = graph.predict(x_test, time=TIME, dt=DT)\n",
    "\n",
    "    accs = (pred.argmax(2) == y_test).float()\n",
    "\n",
    "    y_label = nn.functional.one_hot(y_test, n_classes).float()\n",
    "\n",
    "    task_loss = criterion(pred, y_label)\n",
    "    overflow = graph.overflow()\n",
    "\n",
    "    loss = task_loss + overflow\n",
    "    loss.backward()\n",
    "\n",
    "    torch.nn.utils.clip_grad_norm_(graph.parameters(), 1.0)\n",
    "    optimizer.step()\n",
    "\n",
    "    entry = {'loss': task_loss.item(), 'acc': accs.mean().item(), \"overflow\": overflow.item(), \"decay\":graph.decay}\n",
    "    log.append(entry)\n",
    "    bar.set_postfix({\"loss\":np.mean([e[\"loss\"] for e in log[-10:]]), \"acc\":np.mean([e[\"acc\"] for e in log[-10:]]), \"overflow\":entry[\"overflow\"], \"decay\":entry[\"decay\"]})"
   ]
  },
  {
   "cell_type": "code",
   "execution_count": null,
   "metadata": {},
   "outputs": [],
   "source": [
    "plt.plot([e[\"loss\"] for e in log])\n",
    "# plt.ylim(0, .5)\n",
    "plt.show()\n",
    "\n",
    "plt.plot([e[\"acc\"] for e in log])\n",
    "plt.show()"
   ]
  },
  {
   "cell_type": "code",
   "execution_count": null,
   "metadata": {},
   "outputs": [],
   "source": [
    "graph.save(\"models/generalize.pt\")"
   ]
  },
  {
   "cell_type": "code",
   "execution_count": null,
   "metadata": {},
   "outputs": [],
   "source": []
  },
  {
   "cell_type": "markdown",
   "metadata": {},
   "source": [
    "### Evaluate on Train digits, Test digits, Fashion test"
   ]
  },
  {
   "cell_type": "code",
   "execution_count": 47,
   "metadata": {},
   "outputs": [],
   "source": [
    "class Model(nn.Module):\n",
    "    def __init__(self):\n",
    "        super().__init__()\n",
    "\n",
    "        self.main = nn.Sequential(\n",
    "            nn.Linear(SIZE**2, 64),\n",
    "            nn.SiLU(),\n",
    "            nn.Linear(64, 32),\n",
    "            nn.SiLU(),\n",
    "            nn.Linear(32, n_classes),\n",
    "            nn.Softmax(1),\n",
    "        )\n",
    "    \n",
    "    def forward(self, x):\n",
    "        return self.main(x)\n",
    "\n",
    "def fit(model, x_train, y_train, epochs=3):\n",
    "    optimizer = torch.optim.Adam(model.parameters(), lr=1e-3)\n",
    "    for e in range(epochs):\n",
    "        optimizer.zero_grad()\n",
    "        y_hat = model(x_train)\n",
    "        loss = criterion(y_hat, y_train)\n",
    "\n",
    "        loss.backward()\n",
    "        optimizer.step()"
   ]
  },
  {
   "cell_type": "code",
   "execution_count": 49,
   "metadata": {},
   "outputs": [
    {
     "name": "stdout",
     "output_type": "stream",
     "text": [
      "Data: train\n"
     ]
    },
    {
     "data": {
      "application/vnd.jupyter.widget-view+json": {
       "model_id": "29b19b5b08e2459b980ac05ed7698b66",
       "version_major": 2,
       "version_minor": 0
      },
      "text/plain": [
       "  0%|          | 0/10 [00:00<?, ?it/s]"
      ]
     },
     "metadata": {},
     "output_type": "display_data"
    },
    {
     "ename": "KeyboardInterrupt",
     "evalue": "",
     "output_type": "error",
     "traceback": [
      "\u001b[1;31m---------------------------------------------------------------------------\u001b[0m",
      "\u001b[1;31mKeyboardInterrupt\u001b[0m                         Traceback (most recent call last)",
      "Cell \u001b[1;32mIn[49], line 47\u001b[0m\n\u001b[0;32m     44\u001b[0m \u001b[39mfor\u001b[39;00m epochs \u001b[39min\u001b[39;00m [\u001b[39m10\u001b[39m, \u001b[39m100\u001b[39m, \u001b[39m1000\u001b[39m]:\n\u001b[0;32m     45\u001b[0m     model \u001b[39m=\u001b[39m Model()\n\u001b[1;32m---> 47\u001b[0m     fit(model, x_train_b, y_input_b, epochs\u001b[39m=\u001b[39mepochs)\n\u001b[0;32m     48\u001b[0m     pred \u001b[39m=\u001b[39m model(x_test_b)\n\u001b[0;32m     50\u001b[0m     model_acc \u001b[39m=\u001b[39m (pred\u001b[39m.\u001b[39margmax(\u001b[39m1\u001b[39m) \u001b[39m==\u001b[39m y_test_b)\u001b[39m.\u001b[39mfloat()\u001b[39m.\u001b[39mmean()\n",
      "Cell \u001b[1;32mIn[47], line 25\u001b[0m, in \u001b[0;36mfit\u001b[1;34m(model, x_train, y_train, epochs)\u001b[0m\n\u001b[0;32m     22\u001b[0m loss \u001b[39m=\u001b[39m criterion(y_hat, y_train)\n\u001b[0;32m     24\u001b[0m loss\u001b[39m.\u001b[39mbackward()\n\u001b[1;32m---> 25\u001b[0m optimizer\u001b[39m.\u001b[39mstep()\n",
      "File \u001b[1;32mc:\\Users\\Alec\\anaconda3\\Lib\\site-packages\\torch\\optim\\optimizer.py:280\u001b[0m, in \u001b[0;36mOptimizer.profile_hook_step.<locals>.wrapper\u001b[1;34m(*args, **kwargs)\u001b[0m\n\u001b[0;32m    276\u001b[0m         \u001b[39melse\u001b[39;00m:\n\u001b[0;32m    277\u001b[0m             \u001b[39mraise\u001b[39;00m \u001b[39mRuntimeError\u001b[39;00m(\u001b[39mf\u001b[39m\u001b[39m\"\u001b[39m\u001b[39m{\u001b[39;00mfunc\u001b[39m}\u001b[39;00m\u001b[39m must return None or a tuple of (new_args, new_kwargs),\u001b[39m\u001b[39m\"\u001b[39m\n\u001b[0;32m    278\u001b[0m                                \u001b[39mf\u001b[39m\u001b[39m\"\u001b[39m\u001b[39mbut got \u001b[39m\u001b[39m{\u001b[39;00mresult\u001b[39m}\u001b[39;00m\u001b[39m.\u001b[39m\u001b[39m\"\u001b[39m)\n\u001b[1;32m--> 280\u001b[0m out \u001b[39m=\u001b[39m func(\u001b[39m*\u001b[39margs, \u001b[39m*\u001b[39m\u001b[39m*\u001b[39mkwargs)\n\u001b[0;32m    281\u001b[0m \u001b[39mself\u001b[39m\u001b[39m.\u001b[39m_optimizer_step_code()\n\u001b[0;32m    283\u001b[0m \u001b[39m# call optimizer step post hooks\u001b[39;00m\n",
      "File \u001b[1;32mc:\\Users\\Alec\\anaconda3\\Lib\\site-packages\\torch\\optim\\optimizer.py:33\u001b[0m, in \u001b[0;36m_use_grad_for_differentiable.<locals>._use_grad\u001b[1;34m(self, *args, **kwargs)\u001b[0m\n\u001b[0;32m     31\u001b[0m \u001b[39mtry\u001b[39;00m:\n\u001b[0;32m     32\u001b[0m     torch\u001b[39m.\u001b[39mset_grad_enabled(\u001b[39mself\u001b[39m\u001b[39m.\u001b[39mdefaults[\u001b[39m'\u001b[39m\u001b[39mdifferentiable\u001b[39m\u001b[39m'\u001b[39m])\n\u001b[1;32m---> 33\u001b[0m     ret \u001b[39m=\u001b[39m func(\u001b[39mself\u001b[39m, \u001b[39m*\u001b[39margs, \u001b[39m*\u001b[39m\u001b[39m*\u001b[39mkwargs)\n\u001b[0;32m     34\u001b[0m \u001b[39mfinally\u001b[39;00m:\n\u001b[0;32m     35\u001b[0m     torch\u001b[39m.\u001b[39mset_grad_enabled(prev_grad)\n",
      "File \u001b[1;32mc:\\Users\\Alec\\anaconda3\\Lib\\site-packages\\torch\\optim\\adam.py:141\u001b[0m, in \u001b[0;36mAdam.step\u001b[1;34m(self, closure)\u001b[0m\n\u001b[0;32m    130\u001b[0m     beta1, beta2 \u001b[39m=\u001b[39m group[\u001b[39m'\u001b[39m\u001b[39mbetas\u001b[39m\u001b[39m'\u001b[39m]\n\u001b[0;32m    132\u001b[0m     \u001b[39mself\u001b[39m\u001b[39m.\u001b[39m_init_group(\n\u001b[0;32m    133\u001b[0m         group,\n\u001b[0;32m    134\u001b[0m         params_with_grad,\n\u001b[1;32m   (...)\u001b[0m\n\u001b[0;32m    138\u001b[0m         max_exp_avg_sqs,\n\u001b[0;32m    139\u001b[0m         state_steps)\n\u001b[1;32m--> 141\u001b[0m     adam(\n\u001b[0;32m    142\u001b[0m         params_with_grad,\n\u001b[0;32m    143\u001b[0m         grads,\n\u001b[0;32m    144\u001b[0m         exp_avgs,\n\u001b[0;32m    145\u001b[0m         exp_avg_sqs,\n\u001b[0;32m    146\u001b[0m         max_exp_avg_sqs,\n\u001b[0;32m    147\u001b[0m         state_steps,\n\u001b[0;32m    148\u001b[0m         amsgrad\u001b[39m=\u001b[39mgroup[\u001b[39m'\u001b[39m\u001b[39mamsgrad\u001b[39m\u001b[39m'\u001b[39m],\n\u001b[0;32m    149\u001b[0m         beta1\u001b[39m=\u001b[39mbeta1,\n\u001b[0;32m    150\u001b[0m         beta2\u001b[39m=\u001b[39mbeta2,\n\u001b[0;32m    151\u001b[0m         lr\u001b[39m=\u001b[39mgroup[\u001b[39m'\u001b[39m\u001b[39mlr\u001b[39m\u001b[39m'\u001b[39m],\n\u001b[0;32m    152\u001b[0m         weight_decay\u001b[39m=\u001b[39mgroup[\u001b[39m'\u001b[39m\u001b[39mweight_decay\u001b[39m\u001b[39m'\u001b[39m],\n\u001b[0;32m    153\u001b[0m         eps\u001b[39m=\u001b[39mgroup[\u001b[39m'\u001b[39m\u001b[39meps\u001b[39m\u001b[39m'\u001b[39m],\n\u001b[0;32m    154\u001b[0m         maximize\u001b[39m=\u001b[39mgroup[\u001b[39m'\u001b[39m\u001b[39mmaximize\u001b[39m\u001b[39m'\u001b[39m],\n\u001b[0;32m    155\u001b[0m         foreach\u001b[39m=\u001b[39mgroup[\u001b[39m'\u001b[39m\u001b[39mforeach\u001b[39m\u001b[39m'\u001b[39m],\n\u001b[0;32m    156\u001b[0m         capturable\u001b[39m=\u001b[39mgroup[\u001b[39m'\u001b[39m\u001b[39mcapturable\u001b[39m\u001b[39m'\u001b[39m],\n\u001b[0;32m    157\u001b[0m         differentiable\u001b[39m=\u001b[39mgroup[\u001b[39m'\u001b[39m\u001b[39mdifferentiable\u001b[39m\u001b[39m'\u001b[39m],\n\u001b[0;32m    158\u001b[0m         fused\u001b[39m=\u001b[39mgroup[\u001b[39m'\u001b[39m\u001b[39mfused\u001b[39m\u001b[39m'\u001b[39m],\n\u001b[0;32m    159\u001b[0m         grad_scale\u001b[39m=\u001b[39m\u001b[39mgetattr\u001b[39m(\u001b[39mself\u001b[39m, \u001b[39m\"\u001b[39m\u001b[39mgrad_scale\u001b[39m\u001b[39m\"\u001b[39m, \u001b[39mNone\u001b[39;00m),\n\u001b[0;32m    160\u001b[0m         found_inf\u001b[39m=\u001b[39m\u001b[39mgetattr\u001b[39m(\u001b[39mself\u001b[39m, \u001b[39m\"\u001b[39m\u001b[39mfound_inf\u001b[39m\u001b[39m\"\u001b[39m, \u001b[39mNone\u001b[39;00m),\n\u001b[0;32m    161\u001b[0m     )\n\u001b[0;32m    163\u001b[0m \u001b[39mreturn\u001b[39;00m loss\n",
      "File \u001b[1;32mc:\\Users\\Alec\\anaconda3\\Lib\\site-packages\\torch\\optim\\adam.py:281\u001b[0m, in \u001b[0;36madam\u001b[1;34m(params, grads, exp_avgs, exp_avg_sqs, max_exp_avg_sqs, state_steps, foreach, capturable, differentiable, fused, grad_scale, found_inf, amsgrad, beta1, beta2, lr, weight_decay, eps, maximize)\u001b[0m\n\u001b[0;32m    278\u001b[0m \u001b[39melse\u001b[39;00m:\n\u001b[0;32m    279\u001b[0m     func \u001b[39m=\u001b[39m _single_tensor_adam\n\u001b[1;32m--> 281\u001b[0m func(params,\n\u001b[0;32m    282\u001b[0m      grads,\n\u001b[0;32m    283\u001b[0m      exp_avgs,\n\u001b[0;32m    284\u001b[0m      exp_avg_sqs,\n\u001b[0;32m    285\u001b[0m      max_exp_avg_sqs,\n\u001b[0;32m    286\u001b[0m      state_steps,\n\u001b[0;32m    287\u001b[0m      amsgrad\u001b[39m=\u001b[39mamsgrad,\n\u001b[0;32m    288\u001b[0m      beta1\u001b[39m=\u001b[39mbeta1,\n\u001b[0;32m    289\u001b[0m      beta2\u001b[39m=\u001b[39mbeta2,\n\u001b[0;32m    290\u001b[0m      lr\u001b[39m=\u001b[39mlr,\n\u001b[0;32m    291\u001b[0m      weight_decay\u001b[39m=\u001b[39mweight_decay,\n\u001b[0;32m    292\u001b[0m      eps\u001b[39m=\u001b[39meps,\n\u001b[0;32m    293\u001b[0m      maximize\u001b[39m=\u001b[39mmaximize,\n\u001b[0;32m    294\u001b[0m      capturable\u001b[39m=\u001b[39mcapturable,\n\u001b[0;32m    295\u001b[0m      differentiable\u001b[39m=\u001b[39mdifferentiable,\n\u001b[0;32m    296\u001b[0m      grad_scale\u001b[39m=\u001b[39mgrad_scale,\n\u001b[0;32m    297\u001b[0m      found_inf\u001b[39m=\u001b[39mfound_inf)\n",
      "File \u001b[1;32mc:\\Users\\Alec\\anaconda3\\Lib\\site-packages\\torch\\optim\\adam.py:391\u001b[0m, in \u001b[0;36m_single_tensor_adam\u001b[1;34m(params, grads, exp_avgs, exp_avg_sqs, max_exp_avg_sqs, state_steps, grad_scale, found_inf, amsgrad, beta1, beta2, lr, weight_decay, eps, maximize, capturable, differentiable)\u001b[0m\n\u001b[0;32m    389\u001b[0m     denom \u001b[39m=\u001b[39m (max_exp_avg_sqs[i]\u001b[39m.\u001b[39msqrt() \u001b[39m/\u001b[39m bias_correction2_sqrt)\u001b[39m.\u001b[39madd_(eps)\n\u001b[0;32m    390\u001b[0m \u001b[39melse\u001b[39;00m:\n\u001b[1;32m--> 391\u001b[0m     denom \u001b[39m=\u001b[39m (exp_avg_sq\u001b[39m.\u001b[39msqrt() \u001b[39m/\u001b[39m bias_correction2_sqrt)\u001b[39m.\u001b[39madd_(eps)\n\u001b[0;32m    393\u001b[0m param\u001b[39m.\u001b[39maddcdiv_(exp_avg, denom, value\u001b[39m=\u001b[39m\u001b[39m-\u001b[39mstep_size)\n",
      "\u001b[1;31mKeyboardInterrupt\u001b[0m: "
     ]
    }
   ],
   "source": [
    "overall_accs = {}\n",
    "overall_losses = {}\n",
    "\n",
    "for data in [\"train\", \"test\", \"fashion\"]:\n",
    "    print(f\"Data: {data}\")\n",
    "\n",
    "    accs = {\"graph\":[], \"linreg\":[], \"ANN_10_epochs\":[], \"ANN_100_epochs\":[], \"ANN_1000_epochs\":[]}\n",
    "    losses = {\"graph\":[], \"linreg\":[], \"ANN_10_epochs\":[], \"ANN_100_epochs\":[], \"ANN_1000_epochs\":[]}\n",
    "\n",
    "    # Average across 10 tries with batch_size=32 so N=320\n",
    "    for _ in tqdm(range(10)):\n",
    "        x_train, y_train, x_test, y_test, classes = get_batch_data(data=data)\n",
    "        y_input = nn.functional.one_hot(y_train, n_classes).float()\n",
    "        y_label = nn.functional.one_hot(y_test, n_classes).float()\n",
    "        \n",
    "        # Try graph\n",
    "        with torch.no_grad():\n",
    "            graph.init_vals(nodes=True, edges=True, batch_size=BATCH_SIZE)\n",
    "\n",
    "            graph.learn(x_train, y_input, time=TIME, dt=DT)\n",
    "            pred = graph.predict(x_test, time=TIME, dt=DT)\n",
    "\n",
    "            graph_acc = (pred.argmax(2) == y_test).float().mean()\n",
    "            graph_loss = criterion(pred, y_label)\n",
    "\n",
    "            accs[\"graph\"].append(graph_acc.item())\n",
    "            losses[\"graph\"].append(graph_loss.item())\n",
    "\n",
    "        # Try linear regression and an ANN on each batch\n",
    "        for x_train_b, y_train_b, x_test_b, y_test_b, y_input_b, y_label_b in zip(x_train, y_train, x_test, y_test, y_input, y_label):\n",
    "            model = LinearRegression()\n",
    "\n",
    "            model.fit(x_train_b.cpu(), y_input_b.cpu())\n",
    "            pred = torch.Tensor(model.predict(x_test_b.cpu())).to(device)\n",
    "\n",
    "            linreg_acc = (pred.argmax(1) == y_test_b).float().mean()\n",
    "            linreg_loss = criterion(pred, y_label_b)\n",
    "\n",
    "            accs[\"linreg\"].append(linreg_acc.item())\n",
    "            losses[\"linreg\"].append(linreg_loss.item())\n",
    "\n",
    "\n",
    "            # Train model for 10, 100, 1000 epochs and record acc / loss\n",
    "            for epochs in [10, 100, 1000]:\n",
    "                model = Model().to(device)\n",
    "\n",
    "                fit(model, x_train_b, y_input_b, epochs=epochs)\n",
    "                pred = model(x_test_b)\n",
    "\n",
    "                model_acc = (pred.argmax(1) == y_test_b).float().mean()\n",
    "                model_loss = criterion(pred, y_label_b)\n",
    "\n",
    "                accs[f\"ANN_{epochs}_epochs\"].append(model_acc.item())\n",
    "                losses[f\"ANN_{epochs}_epochs\"].append(model_loss.item())\n",
    "\n",
    "    overall_accs[data] = {k:np.mean(v) for k, v in accs.items()}\n",
    "    overall_losses[data] = {k:np.mean(v) for k, v in losses.items()}"
   ]
  },
  {
   "cell_type": "code",
   "execution_count": null,
   "metadata": {},
   "outputs": [],
   "source": [
    "width=.05\n",
    "\n",
    "plt.title(\"Model vs Accuracy from 10 train examples\")\n",
    "\n",
    "plt.xticks(rotation='vertical')\n",
    "plt.ylim(0, 1)\n",
    "plt.ylabel(\"Accuracy\")\n",
    "\n",
    "X = overall_accs.keys()\n",
    "X_axis = np.arange(len(X))\n",
    "\n",
    "plt.xticks(X_axis, X)\n",
    "\n",
    "model_names = overall_accs[\"train\"].keys()\n",
    "\n",
    "for i, model_name in enumerate(model_names):\n",
    "    accs = []\n",
    "    for data_set in X:\n",
    "        accs.append(overall_accs[data_set][model_name])\n",
    "    plt.bar(X_axis + i*(width) - len(model_names)*(width/2), accs, width, label=model_name)\n",
    "    \n",
    "    \n",
    "plt.legend(loc=\"lower right\")\n",
    "plt.savefig(\"results.png\")\n",
    "plt.show()"
   ]
  },
  {
   "cell_type": "markdown",
   "metadata": {},
   "source": []
  }
 ],
 "metadata": {
  "kernelspec": {
   "display_name": "Python 3",
   "language": "python",
   "name": "python3"
  },
  "language_info": {
   "codemirror_mode": {
    "name": "ipython",
    "version": 3
   },
   "file_extension": ".py",
   "mimetype": "text/x-python",
   "name": "python",
   "nbconvert_exporter": "python",
   "pygments_lexer": "ipython3",
   "version": "3.11.3"
  },
  "orig_nbformat": 4
 },
 "nbformat": 4,
 "nbformat_minor": 2
}
