{
 "cells": [
  {
   "cell_type": "code",
   "execution_count": 17,
   "metadata": {},
   "outputs": [
    {
     "data": {
      "text/plain": [
       "<module 'NeuralGraph' from 'c:\\\\Users\\\\Alec\\\\Documents\\\\GitHub\\\\ngraph_lang\\\\NeuralGraph.py'>"
      ]
     },
     "execution_count": 17,
     "metadata": {},
     "output_type": "execute_result"
    }
   ],
   "source": [
    "import torch\n",
    "import torch.nn as nn\n",
    "\n",
    "import tensorflow as tf\n",
    "\n",
    "import matplotlib.pyplot as plt\n",
    "from tqdm.autonotebook import tqdm\n",
    "import numpy as np\n",
    "import cv2\n",
    "\n",
    "import random\n",
    "import importlib\n",
    "\n",
    "import NeuralGraph\n",
    "importlib.reload(NeuralGraph)"
   ]
  },
  {
   "cell_type": "code",
   "execution_count": 18,
   "metadata": {},
   "outputs": [],
   "source": [
    "(x_train, y_train), (x_test, y_test) = tf.keras.datasets.mnist.load_data()\n",
    "\n",
    "x_train, x_test = x_train/255.0, x_test/255.0\n",
    "\n",
    "SIZE = 7\n",
    "\n",
    "train = {i:[] for i in range(8)}\n",
    "test = {i:[] for i in range(8, 10)}\n",
    "\n",
    "for img, label in zip(x_train, y_train):\n",
    "    if label < 8:\n",
    "        train[label].append(cv2.resize(img, dsize=[SIZE, SIZE]).reshape(SIZE**2))\n",
    "    else:\n",
    "        test[label].append(cv2.resize(img, dsize=[SIZE, SIZE]).reshape(SIZE**2))\n",
    "\n",
    "for label in train.keys():\n",
    "    train[label] = np.array(train[label])\n",
    "\n",
    "for label in test.keys():\n",
    "    test[label] = np.array(test[label])"
   ]
  },
  {
   "cell_type": "code",
   "execution_count": 19,
   "metadata": {},
   "outputs": [
    {
     "name": "stdout",
     "output_type": "stream",
     "text": [
      "816\n"
     ]
    }
   ],
   "source": [
    "n_classes = 2\n",
    "\n",
    "shape = [SIZE**2, 16, n_classes]\n",
    "connections = []\n",
    "\n",
    "for i in range(len(shape)-1):\n",
    "    for j in range(shape[i]):\n",
    "        for k in range(shape[i+1]):\n",
    "            connections.append((sum(shape[:i])+j, sum(shape[:i+1])+k))\n",
    "\n",
    "print(len(connections))"
   ]
  },
  {
   "cell_type": "code",
   "execution_count": 41,
   "metadata": {},
   "outputs": [],
   "source": [
    "device = \"cuda\"\n",
    "\n",
    "graph = NeuralGraph.NeuralGraph(sum(shape), shape[0], shape[-1], connections, leakage=.25, value_init=\"random\", init_value_std=.1, \n",
    "    aggregation=\"attention\", n_heads=1, use_label=True, device=device, n_models=1, decay=.5)"
   ]
  },
  {
   "cell_type": "code",
   "execution_count": 42,
   "metadata": {},
   "outputs": [],
   "source": [
    "criterion = nn.MSELoss()\n",
    "optimizer = torch.optim.Adam(graph.parameters(), lr=1e-2)"
   ]
  },
  {
   "cell_type": "code",
   "execution_count": 43,
   "metadata": {},
   "outputs": [],
   "source": [
    "TRAIN_EXAMPLES = 10\n",
    "TEST_EXAMPLES = 10\n",
    "\n",
    "STEPS = 100_000\n",
    "BATCH_SIZE = 32\n",
    "TIME = 1\n",
    "DT = .25\n",
    "\n",
    "def get_batch_data():\n",
    "    classes = np.stack([np.random.choice(8, size=(n_classes), replace=False) for _ in range(BATCH_SIZE)])\n",
    "\n",
    "    y_train = np.random.randint(n_classes, size=(BATCH_SIZE, TRAIN_EXAMPLES))\n",
    "    x_train = []\n",
    "    for batch_classes, y in zip(classes, y_train):\n",
    "        x_train.append([])\n",
    "        for class_ in batch_classes[y]:\n",
    "            x_train[-1].append(random.choice(train[class_]))\n",
    "        x_train[-1] = np.stack(x_train[-1])\n",
    "    x_train = np.stack(x_train)\n",
    "\n",
    "    y_test = np.random.randint(n_classes, size=(BATCH_SIZE, TEST_EXAMPLES))\n",
    "    x_test = []\n",
    "    for batch_classes, y in zip(classes, y_test):\n",
    "        x_test.append([])\n",
    "        for class_ in batch_classes[y]:\n",
    "            x_test[-1].append(random.choice(train[class_]))\n",
    "        x_test[-1] = np.stack(x_test[-1])\n",
    "    x_test = np.stack(x_test)\n",
    "    return torch.Tensor(x_train).to(device), torch.Tensor(y_train).long().to(device), torch.Tensor(x_test).to(device), torch.Tensor(y_test).long().to(device), classes"
   ]
  },
  {
   "cell_type": "code",
   "execution_count": null,
   "metadata": {},
   "outputs": [],
   "source": [
    "log = []"
   ]
  },
  {
   "cell_type": "code",
   "execution_count": 44,
   "metadata": {},
   "outputs": [
    {
     "data": {
      "application/vnd.jupyter.widget-view+json": {
       "model_id": "4c69140f543a4df4abb5bf1dc45054d5",
       "version_major": 2,
       "version_minor": 0
      },
      "text/plain": [
       "  0%|          | 0/10000 [00:00<?, ?it/s]"
      ]
     },
     "metadata": {},
     "output_type": "display_data"
    }
   ],
   "source": [
    "bar = tqdm(range(STEPS))\n",
    "for _ in bar:\n",
    "    x_train, y_train, x_test, y_test, classes = get_batch_data()\n",
    "\n",
    "    graph.init_vals(nodes=True, edges=True, batch_size=BATCH_SIZE)\n",
    "    graph.detach_vals()\n",
    "    optimizer.zero_grad()\n",
    "\n",
    "    y_input = nn.functional.one_hot(y_train, n_classes).float()\n",
    "\n",
    "    graph.learn(x_train, y_input, time=TIME, dt=DT)\n",
    "    pred = graph.predict(x_test, time=TIME, dt=DT)\n",
    "\n",
    "    accs = (pred.argmax(2) == y_test).float()\n",
    "\n",
    "    y_label = nn.functional.one_hot(y_test, n_classes).float()\n",
    "\n",
    "    task_loss = criterion(pred, y_label)\n",
    "    overflow = graph.overflow()\n",
    "\n",
    "    loss = task_loss + overflow\n",
    "    loss.backward()\n",
    "\n",
    "    if overflow < .1 and graph.decay >= .25:\n",
    "        graph.decay -= .05\n",
    "\n",
    "    torch.nn.utils.clip_grad_norm_(graph.parameters(), 1.0)\n",
    "    optimizer.step()\n",
    "\n",
    "    entry = {'loss': task_loss.item(), 'acc': accs.mean().item(), \"overflow\": overflow.item(), \"decay\":graph.decay}\n",
    "    log.append(entry)\n",
    "    bar.set_postfix({\"loss\":np.mean([e[\"loss\"] for e in log[-10:]]), \"acc\":np.mean([e[\"acc\"] for e in log[-10:]]), \"overflow\":entry[\"overflow\"], \"decay\":entry[\"decay\"]})"
   ]
  },
  {
   "cell_type": "code",
   "execution_count": null,
   "metadata": {},
   "outputs": [],
   "source": []
  }
 ],
 "metadata": {
  "kernelspec": {
   "display_name": "Python 3",
   "language": "python",
   "name": "python3"
  },
  "language_info": {
   "codemirror_mode": {
    "name": "ipython",
    "version": 3
   },
   "file_extension": ".py",
   "mimetype": "text/x-python",
   "name": "python",
   "nbconvert_exporter": "python",
   "pygments_lexer": "ipython3",
   "version": "3.11.3"
  },
  "orig_nbformat": 4
 },
 "nbformat": 4,
 "nbformat_minor": 2
}
